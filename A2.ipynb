{
 "cells": [
  {
   "cell_type": "markdown",
   "id": "896de796-7bdb-4f8b-aae3-b13b53068f74",
   "metadata": {},
   "source": [
    "# Assignment A2 [50 marks]\n",
    "\n",
    "This is the second assignment for MATH08065 Computing and Numerics.\n",
    "\n",
    "### Academic misconduct\n",
    "\n",
    "Note that this is an **individual assignment**. Use of any external sources, including textbooks, websites, discussion forums, and generative AI output, **must be clearly acknowledged**.\n",
    "\n",
    "- [School of Mathematics academic misconduct information](https://teaching.maths.ed.ac.uk/main/undergraduate/studies/assessment/academic-misconduct)\n",
    "\n",
    "You must clearly indicate any code which is taken from an external source, and must clearly indicate if the code has been modified. For example\n",
    "\n",
    "```\n",
    "### Modified version of code from [author] [url] [access date]\n",
    "...\n",
    "### End of acknowledged code\n",
    "```\n",
    "\n",
    "Marks may be reduced if more than a small proportion of the code is taken from external sources, modified or unmodified.\n",
    "\n",
    "When working on your assignment, collaboration is fine, but collusion is not. Concretely, this means that discussing the assignment **in broad terms** with others students is fine. However, you are **not permitted to share your working** (even partially) with other students -- that includes your code, any detailed description or explanation of code, and any results or analysis you perform. Submissions may be checked for similarity.\n",
    "\n",
    "### Automarking\n",
    "\n",
    "Questions 1.1, 2.1, and 2.2 will use gradescope automarking. It is important that\n",
    "\n",
    "- Your submission consists of a single notebook, with file extension `.ipynb`.\n",
    "- The indicated functions are only defined once each in your notebook.\n",
    "- Each indicated function and any supporting code (in particular imports) appears in a *single code cell*. Only code in this cell will be used for testing your function. e.g. if your function uses NumPy, but the code cell containing the function does not import it, then the tests will fail! As exception, your `gamma_n` function will be available to your `gamma_n_inverse` function in 2.2.\n",
    "- The code cell containing the indicated function must be syntactically valid Python, and e.g. must not use 'magic commands' (such as commands starting `%matplotlib`).\n",
    "- The functions have the indicated name, and the indicated arguments with the indicated names. No additional arguments, or default argument values, should be used.\n",
    "\n",
    "You may use NumPy, SciPy, and matplotlib for your assignment. Other libraries may not be available in the autograder.\n",
    "\n",
    "For the complete mark scheme see `mark_scheme.pdf`.\n",
    "\n",
    "### Submission\n",
    "\n",
    "To submit your assignment to Gradescope:\n",
    "\n",
    "1. Make sure you run all the cells in your `A2.ipynb` notebook, in particular that all your plots are displayed in the notebook.\n",
    "2. Make sure you've pushed all your work to GitHub. (Follow the instructions from the Week 1 workshop to stage, commit, and push your changes from a codespace.)\n",
    "3. If you haven't already done this for A1, go to Gradescope, and link your GitHub account by following these instructions (you'll only need to do this once): [https://guides.gradescope.com/hc/en-us/articles/21587275611533-Linking-and-Unlinking-Accounts](https://guides.gradescope.com/hc/en-us/articles/21587275611533-Linking-and-Unlinking-Accounts)\n",
    "4. Select the assignment \"A2\" on Gradescope, and click \"Submit\".\n",
    "5. Select your `A2` repository.\n",
    "6. Then, select the `main` branch. (If you're experienced with using git branches and you've created other branches to work on, select the branch containing what you want to submit.)\n",
    "\n",
    "Further submission instructions are available through Gradescope support: [https://guides.gradescope.com/hc/en-us/articles/21865616724749-Submitting-a-Code-assignment](https://guides.gradescope.com/hc/en-us/articles/21865616724749-Submitting-a-Code-assignment)"
   ]
  },
  {
   "cell_type": "markdown",
   "id": "cb74be99-b93b-4b45-8e53-8a95052f99d6",
   "metadata": {},
   "source": [
    "## Question 1: Numerical differentiation\n",
    "\n",
    "**1.1** We consider a finite difference approximation for a first derivative of the form\n",
    "\n",
    "$$F'(x) \\approx \\frac{1}{h} \\sum_{i = 0}^{N - 1} \\alpha_i F ( x_0 + h \\beta_i ).$$\n",
    "\n",
    "Write a function `finite_difference` which takes the following arguments.\n",
    "\n",
    "  - A `callable` defining $F$. This function may be assumed to accept a single floating point input argument defining, say, $x$, and may be assumed to return a floating point value corresponding to $F(x)$.\n",
    "  - A `float` defining $x_0$.\n",
    "  - A `float` defining $h$.\n",
    "  - A shape `(N,)` NumPy array with floating point data type defining $\\alpha$, where the $i$th element counting from zero corresponds to $\\alpha_i$.\n",
    "  - A shape `(N,)` NumPy array with floating point data type defining $\\beta$, where the $i$th element counting from zero corresponds to $\\beta_i$.\n",
    "\n",
    "The function `finite_difference` should return the finite difference approximation for the first derivative at $x_0$ defined using the formula above, as a `float`.\n",
    "\n",
    "After your function definition add code which checks your function behaves correctly for some simple cases. Your verification code should be clear, easy to understand, commented as necessary, and should display a small amount of relevant output.\n",
    "\n",
    "The function must have the form\n",
    "\n",
    "```\n",
    "def finite_difference(F, x_0, h, alpha, beta):\n",
    "    ...\n",
    "    return derivative_approximation\n",
    "```\n",
    "\n",
    "**[5 marks]**"
   ]
  },
  {
   "cell_type": "code",
   "execution_count": 2,
   "id": "63cbfb11-c593-4a2b-b144-3a7918107dba",
   "metadata": {},
   "outputs": [
    {
     "name": "stdout",
     "output_type": "stream",
     "text": [
      "Approximated value : -0.004999958333473664\n",
      "Actual value: 0\n"
     ]
    }
   ],
   "source": [
    "import numpy as np\n",
    "import matplotlib.pyplot as plt\n",
    "\n",
    "#Function\n",
    "def finite_difference(F, x_0, h, alpha, beta):\n",
    "    \n",
    "    return np.sum(alpha * F(x_0 + h * beta)) / h \n",
    "    #Calculates alpha*F(x_0+h*beta))/h for each corresponding value in alpha and beta, and then adds them.\n",
    "\n",
    "\n",
    "#Verification.\n",
    "def f(x):\n",
    "    return np.sin(x)\n",
    "\n",
    "\n",
    "x_0 = np.pi/2\n",
    "h = 0.01\n",
    "\n",
    "alpha = np.array([-1,1])\n",
    "beta = np.array([0,1])\n",
    "\n",
    "print(f'Approximated value : {finite_difference(f,x_0,h,alpha,beta)}')\n",
    "print(f'Actual value: 0') #Since f'(x) = cos(x) and cos(pi/2) = 0."
   ]
  },
  {
   "cell_type": "markdown",
   "id": "65306125-55a4-48c1-83c8-bc48a1a631bb",
   "metadata": {},
   "source": [
    "**1.2** Consider $N = 3$, let\n",
    "\n",
    "$$\\beta = \\left( \\begin{array}{c} -2 \\\\ -1 \\\\ 0 \\end{array} \\right),$$\n",
    "\n",
    "and let $\\alpha$ be defined by\n",
    "\n",
    "$$\\alpha = \\left( \\begin{array}{ccc} 0 & 0 & 1 \\end{array} \\right) M^{-1} A$$\n",
    "\n",
    "where $M$ and $A$ are $3 \\times 3$ matrices defined by\n",
    "\n",
    "$$M = \\frac{1}{15} \\left( \\begin{array}{ccc} 4 & 2 & -1 \\\\ 2 & 16 & 2 \\\\ -1 & 2 & 4 \\end{array} \\right),$$\n",
    "$$A = \\frac{1}{6} \\left( \\begin{array}{ccc} -3 & 4 & -1 \\\\ -4 & 0 & 4 \\\\ 1 & -4 & 3 \\end{array} \\right).$$\n",
    "\n",
    "Investigate the accuracy of the finite difference approximation. Summarize your results in a discussion of no more than $350$ words.\n",
    "\n",
    "Your code should be clear, easy to understand, and commented as necessary. Your code should generate at least one plot. You should choose which output and/or plots your code should generate, and should use the output and/or plots to support your discussion. Plots must be well laid out and clearly labelled.\n",
    "\n",
    "**[7 marks]**"
   ]
  },
  {
   "cell_type": "code",
   "execution_count": 10,
   "id": "205a02aa-bc62-4ca6-bb60-85f1c1950246",
   "metadata": {},
   "outputs": [
    {
     "name": "stdout",
     "output_type": "stream",
     "text": [
      "The mimimum error for f(x) is at h = 1.519911082952933e-06\n",
      "The mimimum error for g(x) is at h = 2.848035868435805e-06\n",
      "The average step size for minimum error is 2.183973475694369e-06\n"
     ]
    },
    {
     "data": {
      "image/png": "[encoded data removed]",
      "text/plain": [
       "<Figure size 1000x600 with 1 Axes>"
      ]
     },
     "metadata": {},
     "output_type": "display_data"
    }
   ],
   "source": [
    "import numpy as np\n",
    "import matplotlib.pyplot as plt\n",
    "\n",
    "#Inputting given parameters.\n",
    "M = 1/15 * np.array([\n",
    "    [4, 2, -1],\n",
    "    [2, 16, 2],\n",
    "    [-1, 2, 4]])\n",
    "\n",
    "A = 1/6 * np.array([\n",
    "    [-3, 4, -1],\n",
    "    [-4, 0, 4],\n",
    "    [1, -4, 3]])\n",
    "\n",
    "alpha = np.array([0, 0, 1]) @ np.linalg.inv(M) @ A\n",
    "beta = np.array([-2, -1, 0])\n",
    "\n",
    "#Defining functions.\n",
    "def f(x):\n",
    "    return np.sin(x)\n",
    "\n",
    "def f_dash(x):\n",
    "    return np.cos(x)\n",
    "\n",
    "def g(x):\n",
    "    return np.exp(x)\n",
    "\n",
    "def g_dash(x):\n",
    "    return np.exp(x)\n",
    "\n",
    "#Preparing function parameters and empty lists.\n",
    "\n",
    "x_0 = 1\n",
    "\n",
    "h_list = np.logspace(-9, 0, 100)\n",
    "\n",
    "\n",
    "f_errors = []\n",
    "\n",
    "g_errors = []\n",
    "\n",
    "min_errors = []\n",
    "\n",
    "#Calculate error for each value of h and add it to the correspnding error list.\n",
    "for h in h_list:\n",
    "    f_errors.append(abs(f_dash(x_0)- finite_difference(f,x_0,h,alpha,beta)))\n",
    "    g_errors.append(abs(g_dash(x_0)- finite_difference(g,x_0,h,alpha,beta)))\n",
    "    \n",
    "for i in range(len(h_list)):\n",
    "    if f_errors[i] == min(f_errors):\n",
    "        print(f'The mimimum error for f(x) is at h = {h_list[i]}')\n",
    "        min_errors.append(h_list[i])\n",
    "\n",
    "    if g_errors[i] == min(g_errors):\n",
    "        print(f'The mimimum error for g(x) is at h = {h_list[i]}')\n",
    "        min_errors.append(h_list[i])\n",
    "\n",
    "\n",
    "print(f'The average step size for minimum error is {sum(min_errors)/2}')\n",
    "#Graph error list with h values.\n",
    "plt.figure(figsize=(10, 6))\n",
    "plt.loglog(h_list, f_errors, label=r\"$f(x) = \\sin(x)$\")\n",
    "plt.loglog(h_list, g_errors, label=r\"$g(x) = exp(x)$\")\n",
    "plt.xlabel(\"Step size ($h$)\", fontsize=12)\n",
    "plt.ylabel(\"Absolute error\", fontsize=12)\n",
    "plt.title(\"Absolute Error v Step size\", fontsize=14)\n",
    "plt.legend(title=\"Function\")\n",
    "plt.grid(True, which='both', ls='--', lw=0.5)\n",
    "plt.tight_layout()\n",
    "plt.show()\n",
    "\n",
    "\n"
   ]
  },
  {
   "cell_type": "markdown",
   "id": "7dd358e5-f1e0-46c1-97b5-a9cd4c42da14",
   "metadata": {},
   "source": [
    "## Discussion\n",
    "\n",
    "In question 1, I was tasked with investigating the accuracy of a finite difference approximation for the first derivative of the form $$F'(x) = \\frac{1}{h} \\sum_{i=0}^{N-1} \\alpha_i F(x_0 + h \\beta_i)$$ for given values of $\\alpha$ and $\\beta$. \n",
    "\n",
    "In this approximation, \n",
    "* F - Some function\n",
    "* h - Step Size\n",
    "* $x_0$ - A point where the derivative is to be approximated\n",
    "* $\\alpha$ - Weights for the approximation\n",
    "* $\\beta$ - Shift values\n",
    "\n",
    "Note: The values for beta we are given cause our approximation to be a backward-bias scheme (uses values either before or at $x_0$), since $\\beta_i \\leq 0$.\n",
    "\n",
    "I chose to investigate the approximations accuracy by first picking some functions on which to test the approximation, $f(x) = \\sin(x)$ and $g(x) = \\exp(x)$. I chose these functions because I knew their derivatives, which made it easier to calculate the error in the approximation. \n",
    "\n",
    "Next, I created a list of h values ranging from $1 * 10^{-9}$ to $1$, log spaced apart and containing $100$ steps. These values of h were each used in the finite_difference function, with either $f(x)$ or $g(x)$, and a point $x_0$, where the derivative is compared to the approximation. This is then subtracted from the actual value for the derivative and is absoluted, giving us the absolute error. \n",
    "\n",
    "I then graphed the absolute values against their h values to see the trend they created. In the graph, the value of the error is significant at h = 1, because our approximation is more inaccurate for large step size ($h$). As h decreases, so does our error, but at about h = $1*10^{-5}$, the consistency of the decrease in the absolute error is lost. This should not be the case meaning it must be due to rounding errors caused by how computers handle calculations with small decimal values.\n",
    "\n",
    "For both functions, I also calculated at what value of h the absolute error is minimised. After these points, the error begins to rise due to the increasing amount of decimal places involved in the calculation and in turn, the increase in rounding errors. The average step size for minimum error is simply the average of these two calculated values, and is an estimator which becomes more accurate as more functions are inputted. It gives a good idea of at which h value our approximation is most accurate.\n",
    "\n",
    "In conclusion, small step size may imply a more accurate approximation usually, but when using computers for calculations, the effects of rounding errors must be considered. To get an accurate approximation, using a step size that is too big or small will result in error. "
   ]
  },
  {
   "cell_type": "markdown",
   "id": "5a792b16-ef08-459e-bb82-77a8b6bf45f3",
   "metadata": {},
   "source": [
    "## Question 2: Function inverse\n",
    "\n",
    "For each non-negative integer $n$ we define a function $\\gamma_n : \\mathbb{R} \\rightarrow \\mathbb{R}$ where\n",
    "\n",
    "$$\\gamma_n ( x ) = \\begin{cases} \\frac{1}{(n + 1)!} & \\text{if} ~ x = 0 \\\\\n",
    "                                 \\frac{e^x - \\sum_{k = 0}^n \\frac{1}{k!} x^k}{x^{n + 1}} & \\text{otherwise} \\end{cases}.$$\n",
    "\n",
    "**2.1** Write a function named `gamma_n` which takes as input two arguments named `n` and `x`, defining $n$ and $x$ respectively, where $x \\ge 0$, and which returns the result of $\\gamma_n ( x )$. You may assume that `n` is an `int` and that `x` is a non-negative `float`.\n",
    "\n",
    "The function must have the form\n",
    "\n",
    "```\n",
    "def gamma_n(n, x):\n",
    "    ...\n",
    "    return y\n",
    "```\n",
    "\n",
    "Autograder tests will consider up to $n = 6$.\n",
    "\n",
    "**[4 marks]**"
   ]
  },
  {
   "cell_type": "code",
   "execution_count": 57,
   "id": "74e28bf7-773d-478c-ad9c-1429f5aa9263",
   "metadata": {},
   "outputs": [],
   "source": [
    "import math\n",
    "\n",
    "def gamma_n(n, x):\n",
    "    sum = 0\n",
    "    # Add code here\n",
    "    if x == 0:\n",
    "        y = 1/math.factorial((n+1))\n",
    "        \n",
    "    else:\n",
    "        for k in range(n+1):\n",
    "            sum = sum + x**k/math.factorial(k)\n",
    "        \n",
    "        y = (np.exp(x) - sum)/x**(n+1)\n",
    "        \n",
    "    \n",
    "    return y"
   ]
  },
  {
   "cell_type": "markdown",
   "id": "81186d07-701a-45b8-9777-72b93478d760",
   "metadata": {},
   "source": [
    "**2.2** Write a function named `gamma_n_inverse` which takes as input two arguments named `n` and `y`, defining $n$ and $y$ respectively, where $y \\ge \\gamma_n (0)$, and which returns a value $x$ such that $\\gamma_n ( x ) = y$. You may assume that `n` is an `int` and that `y` is a `float`.\n",
    "\n",
    "In a discussion of not more than $400$ words explain and justify any decisions made in your code.\n",
    "\n",
    "The function must have the form\n",
    "\n",
    "```\n",
    "def gamma_n_inverse(n, y):\n",
    "    ...\n",
    "    return x\n",
    "```\n",
    "\n",
    "Autograder tests will consider up to $n = 6$.\n",
    "\n",
    "Your `gamma_n` function defined above will be available to your `gamma_n_inverse` function defined here, when run in the autograder. However you should define all other necessary objects, and in particular import any required modules, in the code cell in which `gamma_n_inverse` is defined.\n",
    "\n",
    "**[8 marks]**"
   ]
  },
  {
   "cell_type": "code",
   "execution_count": null,
   "id": "32d335ca-b732-4c3b-ab2d-43cdc6a46c07",
   "metadata": {},
   "outputs": [
    {
     "data": {
      "text/plain": [
       "11.097524964120737"
      ]
     },
     "execution_count": 63,
     "metadata": {},
     "output_type": "execute_result"
    }
   ],
   "source": [
    "import numpy as np\n",
    "\n",
    "def bisection_method(F, a, b, *, tol=1e-10):\n",
    "    \n",
    "    c = F(a)\n",
    "    \n",
    "    while abs(F(c)) >= tol:\n",
    "        if F(a) * F(b) > 0:\n",
    "            raise ValueError(\"Invalid (a, b): no sign change.\")\n",
    "        \n",
    "        c = (a + b) / 2\n",
    "\n",
    "        if F(a) * F(c) <= 0:\n",
    "            b = c\n",
    "            \n",
    "        else:\n",
    "            a = c\n",
    "    return c\n",
    "\n",
    "def gamma_n_inverse(n, y):\n",
    "    \n",
    "    def f(x):\n",
    "        return gamma_n(n,x) - y\n",
    "\n",
    "    a = 0\n",
    "    b = 1\n",
    "    while f(b) <= 0:\n",
    "        b *= 2\n",
    "    \n",
    "    x = bisection_method(f,a,b,tol=1e-10)\n",
    "    \n",
    "    return x\n",
    "    "
   ]
  },
  {
   "cell_type": "code",
   "execution_count": 62,
   "id": "c62a1e70",
   "metadata": {},
   "outputs": [],
   "source": [
    "def verify(a,b,num_iter):\n",
    "    n_vals = list(range(0,7))\n",
    "    x_vals = np.linspace(a,b,num_iter)\n",
    "\n",
    "    for n in n_vals:\n",
    "        for x in x_vals:\n",
    "            if abs(gamma_n_inverse(n, gamma_n(n, x)) - x) > 0.00005:\n",
    "                print(f'Error for n = {n} and x = {x}')\n",
    "\n",
    "verify(1,100,200)"
   ]
  },
  {
   "cell_type": "markdown",
   "id": "2b00992c",
   "metadata": {},
   "source": [
    "In Question 2, I was tasked with creating a function \"*gamma_n*\" which has inputs $n$ and $x$, and output $y$ and a function \"*gamma_n_inverse*\", which has inputs $n$ and $y$, and output $x$.\n",
    "\n",
    "To create the inverse, I first chose to investigate the $\\gamma_n ( x )$ function, and after noticing that it would be too difficult to find algebraically, I knew I would need to use a numerical method to solve the equation $\\gamma_n ( x ) = y$ for $x$. Firstly I noticed that $\\gamma_n ( x )$ is strictly increasing and to check if it was continuous, I evaluated $\\lim_{x \\to 0} \\gamma_n ( x )$. To do this I noticed that, $$\\gamma_n ( x ) = \\frac{R_{n+1}(x)}{x^{n+1}},$$ where $R_{n+1}(x)$ is the remainder term of the Taylor expansion of $e^x$ at order $n$. \n",
    "\n",
    "It's known that $$R_{n+1}(x) = \\frac{e^c x^{n+1}}{(n+1)!}, \\quad c \\in (0, x),$$ so, $$\\gamma_n ( x ) = \\frac{e^c x^{n+1}}{(n+1)!x^{n+1}} = \\frac{e^c}{(n+1)!},$$ and as $x \\to 0$, $c \\to 0$, so $$\\lim_{x \\to 0} \\gamma_n ( x ) = \\frac{e^0}{(n+1)!} = \\frac{1}{(n+1)!} = \\gamma_n (0),$$ so $\\gamma_n (x)$ is continuous.\n"
   ]
  },
  {
   "cell_type": "markdown",
   "id": "8079820a-abae-4ffc-b153-7719adde09a8",
   "metadata": {},
   "source": [
    "## Question 3: Numerical differential equations\n",
    "\n",
    "A model for a simple pendulum with unit length and unit mass in a gravitational field of unit magnitude takes the form\n",
    "\n",
    "$$\\frac{d^2 \\theta}{d t^2} = -\\sin \\theta \\qquad t > 0,$$\n",
    "\n",
    "where $\\theta$ is the angle that the pendulum makes with the vertical and $t$ is time. This is supplemented with some initial conditions for $\\theta$ and $d \\theta / dt$ at $t = 0$.\n",
    "\n",
    "We write this in the form\n",
    "\n",
    "$$\\frac{d u}{d t} = F(u) \\qquad t > 0,$$\n",
    "\n",
    "where\n",
    "\n",
    "$$u = \\left( \\begin{array}{c} u_0 \\\\ u_1 \\end{array} \\right) = \\left( \\begin{array}{c} \\theta \\\\ \\frac{d \\theta}{d t} \\end{array} \\right),$$\n",
    "\n",
    "$$F(u) = \\left( \\begin{array}{c} u_1 \\\\ -\\sin u_0 \\end{array} \\right).$$\n",
    "\n",
    "Note that it follows that\n",
    "\n",
    "$$\\frac{d E}{d t} = 0,$$\n",
    "\n",
    "where $E$ is the energy of the pendulum,\n",
    "\n",
    "$$E = \\frac{1}{2} u_1 u_1 + 1 - \\cos u_0.$$\n",
    "\n",
    "Consider some step size $h > 0$, and let $u^n$ denote a numerical approximation for $u(n h)$ for each non-negative integer $n$ (noting that superscripts do *not* denote exponentiation in this question). Throughout this question we consider the discrete initial condition\n",
    "\n",
    "$$u^0 = \\left( \\begin{array}{c} \\frac{4}{5} \\pi \\\\ 0 \\end{array} \\right).$$"
   ]
  },
  {
   "cell_type": "markdown",
   "id": "74076cbe-6f61-4171-8199-c90203e3a862",
   "metadata": {},
   "source": [
    "**3.1** We seek an approximate discrete solution via\n",
    "\n",
    "$$\\frac{d u}{d t} \\rightarrow \\frac{1}{h} \\left( u^{n + 1} - u^n \\right),$$\n",
    "$$F(u) \\rightarrow F(u^n) = \\left( \\begin{array}{c} u_1^n \\\\ -\\sin u_0^n \\end{array} \\right),$$\n",
    "\n",
    "leading to the discrete system\n",
    "\n",
    "$$\\frac{1}{h} \\left( u^{n + 1} - u^n \\right) = \\left( \\begin{array}{c} u_1^n \\\\ -\\sin u_0^n \\end{array} \\right) \\qquad n = 0, 1, 2, \\ldots.$$\n",
    "\n",
    "This is known as the *forward Euler* discretization. Investigate the behaviour of the discrete solution. Add a discussion which describes and justifies any decisions you make in your investigation, and which summarizes your results. Your discussion should be no more than $350$ words.\n",
    "\n",
    "Your code should be clear, easy to understand, and commented as necessary. Your code should generate at least one plot. You should choose which output and/or plots your code should generate, and should use the output and/or plots to support your discussion. Plots must be well laid out and clearly labelled.\n",
    "\n",
    "**[6 marks]**"
   ]
  },
  {
   "cell_type": "code",
   "execution_count": null,
   "id": "fe4e43b5-ddda-48ed-add3-30e491ef1c5a",
   "metadata": {},
   "outputs": [],
   "source": [
    "# Add code here"
   ]
  },
  {
   "cell_type": "markdown",
   "id": "9be78acf-028e-4aec-a6ad-260437d8ef10",
   "metadata": {},
   "source": [
    "## Discussion\n",
    "\n",
    "Add discussion here. Double click on this cell to edit."
   ]
  },
  {
   "cell_type": "markdown",
   "id": "1f123086-2e04-4244-a86f-941c7deacae1",
   "metadata": {},
   "source": [
    "**3.2** We next seek an approximate discrete solution via\n",
    "\n",
    "$$\\frac{d u}{d t} \\rightarrow \\frac{1}{h} \\left( u^{n + 1} - u^n \\right),$$\n",
    "$$F(u) \\rightarrow \\left( \\begin{array}{c} u_1^{n + 1} \\\\ -\\sin u_0^n \\end{array} \\right),$$\n",
    "\n",
    "leading to the discrete system\n",
    "\n",
    "$$\\frac{1}{h} \\left( u^{n + 1} - u^n \\right) = \\left( \\begin{array}{c} u_1^{n + 1} \\\\ -\\sin u_0^n \\end{array} \\right) \\qquad n = 0, 1, 2, \\ldots.$$\n",
    "\n",
    "This is a type of *semi-implicit Euler* discretization. Investigate the behaviour of the discrete solution. Add a discussion which describes and justifies any decisions you make in your investigation, and which summarizes your results. Your discussion should be no more than $350$ words.\n",
    "\n",
    "Your code should be clear, easy to understand, and commented as necessary. Your code should generate at least one plot. You should choose which output and/or plots your code should generate, and should use the output and/or plots to support your discussion. Plots must be well laid out and clearly labelled.\n",
    "\n",
    "**[6 marks]**"
   ]
  },
  {
   "cell_type": "code",
   "execution_count": null,
   "id": "b2d3544a-dc03-4039-bcbb-69365819bb8f",
   "metadata": {},
   "outputs": [],
   "source": [
    "# Add code here"
   ]
  },
  {
   "cell_type": "markdown",
   "id": "9c0aca2c-aebc-4165-a198-3f1d2cd025da",
   "metadata": {},
   "source": [
    "## Discussion\n",
    "\n",
    "Add discussion here. Double click on this cell to edit."
   ]
  },
  {
   "cell_type": "markdown",
   "id": "a8cec40c-eba2-4632-bc1e-65b6902482b0",
   "metadata": {},
   "source": [
    "**3.3** We finally seek an approximate discrete solution via\n",
    "\n",
    "$$\\frac{d u}{d t} \\rightarrow \\frac{1}{h} \\left( u^{n + 1} - u^n \\right),$$\n",
    "$$F(u) \\rightarrow F(u^{n + 1}) = \\left( \\begin{array}{c} u_1^{n + 1} \\\\ -\\sin u_0^{n + 1} \\end{array} \\right),$$\n",
    "\n",
    "leading to the discrete system\n",
    "\n",
    "$$\\frac{1}{h} \\left( u^{n + 1} - u^n \\right) = \\left( \\begin{array}{c} u_1^{n + 1} \\\\ -\\sin u_0^{n + 1} \\end{array} \\right) \\qquad n = 0, 1, 2, \\ldots.$$\n",
    "\n",
    "This is known as the *backward Euler* discretization. Investigate the behaviour of the discrete solution. Add a discussion which describes and justifies any decisions you make in your investigation, and which summarizes your results. Your discussion should be no more than $350$ words.\n",
    "\n",
    "**[9 marks]**"
   ]
  },
  {
   "cell_type": "code",
   "execution_count": null,
   "id": "670599df-6654-4a25-ab5e-6c2d0a27aadc",
   "metadata": {},
   "outputs": [],
   "source": [
    "# Add code here"
   ]
  },
  {
   "cell_type": "markdown",
   "id": "145f0a38-79eb-48b1-be50-0bf46a52d703",
   "metadata": {},
   "source": [
    "## Discussion\n",
    "\n",
    "Add discussion here. Double click on this cell to edit."
   ]
  },
  {
   "cell_type": "markdown",
   "id": "761b0a8a-5a3c-4250-ab88-0980f5eabbff",
   "metadata": {},
   "source": [
    "**3.4** Which of the methods, considered in 3.1--3.3, would you use for this problem? Justify your answer. Your answer and justification should not exceed $250$ words, and may refer to your plots and discussions in your solutions to 3.1--3.3.\n",
    "\n",
    "**[5 marks]**"
   ]
  },
  {
   "cell_type": "markdown",
   "id": "533e9b50-4e89-4d52-b1f2-fc30dd8538b3",
   "metadata": {},
   "source": [
    "## Discussion\n",
    "\n",
    "Add discussion here. Double click on this cell to edit."
   ]
  }
 ],
 "metadata": {
  "kernelspec": {
   "display_name": "Python 3",
   "language": "python",
   "name": "python3"
  },
  "language_info": {
   "codemirror_mode": {
    "name": "ipython",
    "version": 3
   },
   "file_extension": ".py",
   "mimetype": "text/x-python",
   "name": "python",
   "nbconvert_exporter": "python",
   "pygments_lexer": "ipython3",
   "version": "3.12.6"
  }
 },
 "nbformat": 4,
 "nbformat_minor": 5
}
